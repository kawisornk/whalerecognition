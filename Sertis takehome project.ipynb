{
 "cells": [
  {
   "cell_type": "markdown",
   "metadata": {},
   "source": [
    "##### Sertis Takehome project: https://www.kaggle.com/c/whale-categorization-playground\n",
    "\n",
    "Kawisorn Kamtue\n",
    "\n",
    "Start time: 10:30am 8/9/2018"
   ]
  },
  {
   "cell_type": "code",
   "execution_count": 1,
   "metadata": {},
   "outputs": [
    {
     "name": "stderr",
     "output_type": "stream",
     "text": [
      "Using TensorFlow backend.\n"
     ]
    }
   ],
   "source": [
    "import pandas as pd\n",
    "import os\n",
    "from os.path import join\n",
    "import matplotlib.pyplot as plt\n",
    "from keras.regularizers import l2\n",
    "from PIL import Image\n",
    "from tensorflow.python.keras import backend as K\n",
    "import tensorflow as tf\n",
    "from keras.models import Model\n",
    "from keras.applications.imagenet_utils import preprocess_input\n",
    "from tensorflow.python.ops import math_ops\n",
    "from keras import optimizers,applications,metrics\n",
    "from keras.layers import Dropout, Flatten,GlobalMaxPooling2D, Dense, GlobalAveragePooling2D,Conv2D,MaxPooling2D,BatchNormalization\n",
    "from keras.callbacks import ModelCheckpoint,EarlyStopping\n",
    "#np.random.seed(1337)  # for reproducibility\n",
    "import random\n",
    "from keras.layers.core import *\n",
    "from keras.optimizers import SGD, RMSprop\n",
    "from keras.layers import Input, Flatten, Dense, Dropout, Lambda\n",
    "from skimage.transform import warp, AffineTransform\n"
   ]
  },
  {
   "cell_type": "markdown",
   "metadata": {},
   "source": [
    "Since previously using data augmentation and transfer learning still have not successfully solved the problem \n",
    "of little and sparse data, I changed my approach to one-shot learning. One-shot learning is a weakly supervised \n",
    "algorithm that is suitable for a small labelled training set. The idea of one shot learning is to learn a similarity \n",
    "function that given a pair of images, output the similarity between two images. In other word, we want to find a metric\n",
    "embedding space where we can apply usual distance function like L1,L2, euclidean distance to"
   ]
  },
  {
   "cell_type": "code",
   "execution_count": 2,
   "metadata": {},
   "outputs": [
    {
     "name": "stdout",
     "output_type": "stream",
     "text": [
      "Number of images 9850\n",
      "Number of whale id 4250\n",
      "Number of training samples/class \t Number of classes\n",
      "1\t\t\t\t\t2220\n",
      "2\t\t\t\t\t1034\n",
      "3\t\t\t\t\t492\n",
      "4\t\t\t\t\t192\n",
      "5\t\t\t\t\t102\n",
      "6\t\t\t\t\t61\n",
      "7\t\t\t\t\t40\n",
      "8\t\t\t\t\t23\n",
      "9\t\t\t\t\t21\n",
      "10\t\t\t\t\t9\n",
      "11\t\t\t\t\t7\n",
      "12\t\t\t\t\t7\n",
      "13\t\t\t\t\t9\n",
      "14\t\t\t\t\t5\n",
      "15\t\t\t\t\t4\n",
      "16\t\t\t\t\t5\n",
      "17\t\t\t\t\t4\n",
      "18\t\t\t\t\t2\n",
      "19\t\t\t\t\t2\n",
      "20\t\t\t\t\t1\n",
      "21\t\t\t\t\t3\n",
      "22\t\t\t\t\t3\n",
      "23\t\t\t\t\t1\n",
      "26\t\t\t\t\t1\n",
      "27\t\t\t\t\t1\n",
      "34\t\t\t\t\t1\n",
      "810\t\t\t\t\t1\n"
     ]
    }
   ],
   "source": [
    "train_image_path = './train/train'\n",
    "train_data = pd.read_csv('train.csv',delimiter = ',')\n",
    "num_sample = train_data.shape[0]\n",
    "label = {} # set label for whale_id\n",
    "label_to_num = {} # match id(str) to num(int)\n",
    "num_to_label = {} # match num(int) to id(str)\n",
    "index = 0\n",
    "for i in range(num_sample):\n",
    "    label[train_data['Image'][i]] = train_data['Id'][i]\n",
    "    if not train_data['Id'][i] == 'new_whale':\n",
    "        if not train_data['Id'][i] in label_to_num:\n",
    "            label_to_num[train_data['Id'][i]] = index\n",
    "            num_to_label[index] = train_data['Id'][i]\n",
    "            index += 1\n",
    "        \n",
    "nb_classes = index\n",
    "print( \"Number of images %d\" %(num_sample))\n",
    "print( \"Number of whale id %d\" %(nb_classes))\n",
    "print( \"Number of training samples/class \\t Number of classes\")\n",
    "\n",
    "for num_sample, num_id in train_data[\"Id\"].value_counts().value_counts().sort_index().iteritems():\n",
    "    print( \"%d\\t\\t\\t\\t\\t%d\" %(num_sample,num_id))"
   ]
  },
  {
   "cell_type": "code",
   "execution_count": 3,
   "metadata": {},
   "outputs": [],
   "source": [
    "image_size = 224"
   ]
  },
  {
   "cell_type": "code",
   "execution_count": 4,
   "metadata": {},
   "outputs": [],
   "source": [
    "def preprocess_input(x):\n",
    "    x /= 255.\n",
    "    x -= 0.5\n",
    "    x *= 2.\n",
    "    return x\n",
    "\n",
    "def augment_data(image):\n",
    "    scale_factor = 1 + np.random.rand()/4\n",
    "    rotate_angle = 3.14*(np.random.rand()-1/2)/2\n",
    "    shear_angle = 3.14*(np.random.rand()-1/2)/4\n",
    "    trans_x = random.randrange(1,5)\n",
    "    trans_y = random.randrange(1,5)\n",
    "    tform = AffineTransform(scale=(scale_factor, scale_factor), rotation=rotate_angle, shear=shear_angle,\n",
    "                        translation=(trans_x, trans_y))\n",
    "    aug_image = warp(image, tform.inverse, output_shape=(image_size, image_size))\n",
    "    return aug_image\n",
    "    "
   ]
  },
  {
   "cell_type": "markdown",
   "metadata": {},
   "source": [
    "First we will prepare a training set. As mentioned earlier, our input will be a pair of training images and the output will be the similarities. For each class (whale id), we will createa N positive pairs and N negative pairs. Positive pair is a pair of whale flukes with same id and negative pair is a pair of whale flukes with different ids. There will not be a class \"new_whale\". As we can see that there are 2220 classes with only one training sample, we will use data augmentation so that each class contains at least two training samples."
   ]
  },
  {
   "cell_type": "code",
   "execution_count": 5,
   "metadata": {},
   "outputs": [],
   "source": [
    "nb_aug_data = 1\n",
    "X_train = []\n",
    "Y_train = []\n",
    "image_file_train = os.listdir(train_image_path)\n",
    "for images in image_file_train:\n",
    "    im = Image.open((join(train_image_path,images))).convert('RGB')\n",
    "    im = im.resize((image_size, image_size))\n",
    "    im = np.array(im).astype('float32')\n",
    "    final_im = preprocess_input(im)\n",
    "    if not label[images]=='new_whale':\n",
    "        X_train.append(np.array(final_im))\n",
    "        Y_train.append(label_to_num[label[images]])\n",
    "        for i in range(nb_aug_data):\n",
    "            aug_image = augment_data(final_im)\n",
    "            X_train.append(np.array(aug_image))\n",
    "            Y_train.append(label_to_num[label[images]])\n",
    "            \n",
    "X_train = np.array(X_train)\n",
    "Y_train = np.array(Y_train)"
   ]
  },
  {
   "cell_type": "code",
   "execution_count": 6,
   "metadata": {},
   "outputs": [
    {
     "name": "stdout",
     "output_type": "stream",
     "text": [
      "(18080, 224, 224, 3)\n"
     ]
    }
   ],
   "source": [
    "print(X_train.shape)"
   ]
  },
  {
   "cell_type": "code",
   "execution_count": 7,
   "metadata": {},
   "outputs": [
    {
     "name": "stderr",
     "output_type": "stream",
     "text": [
      "Clipping input data to the valid range for imshow with RGB data ([0..1] for floats or [0..255] for integers).\n",
      "Clipping input data to the valid range for imshow with RGB data ([0..1] for floats or [0..255] for integers).\n"
     ]
    },
    {
     "data": {
      "text/plain": [
       "Text(0.5,1,'Augmented Image')"
      ]
     },
     "execution_count": 7,
     "metadata": {},
     "output_type": "execute_result"
    },
    {
     "data": {
      "image/png": "[encoded data removed]",
      "text/plain": [
       "<Figure size 432x288 with 2 Axes>"
      ]
     },
     "metadata": {},
     "output_type": "display_data"
    }
   ],
   "source": [
    "import matplotlib.pyplot as plt\n",
    "\n",
    "k=20\n",
    "fig = plt.figure()\n",
    "a = fig.add_subplot(1, 2, 1)\n",
    "imgplot = plt.imshow(X_train[k])\n",
    "a.set_title('Original Image')\n",
    "#plt.colorbar(ticks=[0.1, 0.3, 0.5, 0.7], orientation='horizontal')\n",
    "a = fig.add_subplot(1, 2, 2)\n",
    "imgplot = plt.imshow(X_train[k+1])\n",
    "imgplot.set_clim(0.0, 0.7)\n",
    "a.set_title('Augmented Image')\n",
    "#plt.colorbar(ticks=[0.1, 0.3, 0.5, 0.7], orientation='horizontal')\n",
    "\n",
    "\n",
    "#plt.figure(1)\n",
    "#plt.subplot(211)\n",
    "#plt.imshow(X_train[k])\n",
    "\n",
    "#plt.subplot(212)\n",
    "#plt.imshow(X_train[k+1])\n",
    "#plt.show()"
   ]
  },
  {
   "cell_type": "markdown",
   "metadata": {},
   "source": [
    "We will train a model to  do one-shot classification, that is to give it two images and train it to guess whether they have the same category. The main idea of Siamese neural network is to train CNNs so that maps image to an embedding space where usual distance (euclidean distance)\n",
    "signifies the similarities between images. Two images will pass through the same CNN (same weight, same architecture) and their outputs will be compared using euclidean distance. The final output of the model will be the distance(similarity between the image)"
   ]
  },
  {
   "cell_type": "code",
   "execution_count": 8,
   "metadata": {},
   "outputs": [],
   "source": [
    "def euclidean_distance(vects):\n",
    "    '''\n",
    "    Usual euclidean distance\n",
    "    '''\n",
    "    x, y = vects\n",
    "    sum_square = K.sum(K.square(x - y), axis=1, keepdims=True)\n",
    "    return K.sqrt(K.maximum(sum_square, K.epsilon()))\n",
    "\n",
    "\n",
    "def eucl_dist_output_shape(shapes):\n",
    "    shape1, shape2 = shapes\n",
    "    return (shape1[0], 1)\n",
    "\n",
    "\n",
    "def contrastive_loss(y_true, y_pred):\n",
    "    '''\n",
    "    Contrastive loss from Hadsell-et-al.'06\n",
    "    http://yann.lecun.com/exdb/publis/pdf/hadsell-chopra-lecun-06.pdf\n",
    "    '''\n",
    "    margin = 1\n",
    "    square_pred = K.square(y_pred)\n",
    "    margin_square = K.square(K.maximum(margin - y_pred, 0))\n",
    "    return K.mean(y_true * square_pred + (1 - y_true) * margin_square)\n",
    "\n",
    "def create_pairs(x, whale_ids):\n",
    "    \"\"\" \n",
    "    This function creates input for siamese nn.\n",
    "    For each class, create N pairs of postives pairs and negative pairs. Positive pairs will\n",
    "    be labeled 1 while negative pairs will be labeled 0\n",
    "    \n",
    "    \"\"\"\n",
    "    pairs = []\n",
    "    labels = []\n",
    "    n = min([len(whale_ids[d]) for d in range(nb_classes)]) - 1\n",
    "    for d in range(nb_classes):\n",
    "        for i in range(n):\n",
    "            class_list = list(whale_ids[d])\n",
    "            z1, z2 = random.sample(class_list,2) # positive pair\n",
    "            pairs += [[x[z1], x[z2]]]\n",
    "            inc = random.randrange(1, nb_classes)\n",
    "            dn = (d + inc) % nb_classes # other whale ids\n",
    "            z1, z2 = whale_ids[d][i], whale_ids[dn][i] # negative pair\n",
    "            pairs += [[x[z1], x[z2]]]\n",
    "            labels += [1, 0]\n",
    "    return np.array(pairs), np.array(labels)\n",
    "\n",
    "\n",
    "def create_base_network(in_dim):\n",
    "    \"\"\" Base network to that maps images to embedding space\n",
    "    \"\"\"\n",
    "    \n",
    "    inp = Input(shape=in_dim) # 384x384x1\n",
    "    x   = Conv2D(64, (9,9), strides=2, activation='relu')(inp)\n",
    "\n",
    "    x   = MaxPooling2D((2, 2), strides=(2, 2))(x) # 96x96x64\n",
    "    for _ in range(2):\n",
    "        x = BatchNormalization()(x)\n",
    "        x = Conv2D(64, (3,3), activation='relu')(x)\n",
    "\n",
    "    x = MaxPooling2D((2, 2), strides=(2, 2))(x) # 48x48x64\n",
    "    x = BatchNormalization()(x)\n",
    "    x = Conv2D(128, (1,1), activation='relu')(x) # 48x48x128\n",
    "    \n",
    "    x = MaxPooling2D((2, 2), strides=(2, 2))(x) # 24x24x128\n",
    "    x = BatchNormalization()(x)\n",
    "    x = Conv2D(256, (1,1), activation='relu')(x) # 24x24x256\n",
    "\n",
    "    x = MaxPooling2D((2, 2), strides=(2, 2))(x) # 12x12x256\n",
    "    x = BatchNormalization()(x)\n",
    "    x = Conv2D(384, (1,1), activation='relu')(x) # 12x12x384\n",
    "\n",
    "    x = MaxPooling2D((2, 2), strides=(2, 2))(x) # 6x6x384\n",
    "    x = BatchNormalization()(x)\n",
    "    x = Conv2D(512, (1,1), activation='relu')(x) # 6x6x512\n",
    "    \n",
    "    x = GlobalMaxPooling2D()(x) # 512\n",
    "    model = Model(inputs = inp,outputs = x)\n",
    "    return model\n",
    "\n",
    "\n",
    "def compute_accuracy(y_true, y_pred):\n",
    "    '''\n",
    "    Compute classification accuracy with a fixed threshold on distances.\n",
    "    Note that here the distance 0 means two images are identical while the positive pair is labeled 1.\n",
    "    Therefore we apply y_pred <0.5 to reverse the score\n",
    "    '''\n",
    "    pred = y_pred.ravel() < 0.5\n",
    "    return np.mean(pred == y_true)\n",
    "\n",
    "\n",
    "def accuracy(y_true, y_pred):\n",
    "    '''\n",
    "    Compute classification accuracy with a fixed threshold on distances.\n",
    "    Note that here the distance 0 means two images are identical while the positive pair is labeled 1.\n",
    "    Therefore we apply y_pred <0.5 to reverse the score\n",
    "    '''\n",
    "    return K.mean(K.equal(y_true, K.cast(y_pred < 0.5, y_true.dtype)))\n",
    "\n"
   ]
  },
  {
   "cell_type": "code",
   "execution_count": 9,
   "metadata": {},
   "outputs": [],
   "source": [
    "\n",
    "input_shape = (image_size,image_size,3)\n",
    "\n",
    "# create training+test positive and negative pairs\n",
    "whale_ids = [np.where(Y_train == i)[0] for i in range(nb_classes)]\n",
    "train_pairs, train_y = create_pairs(X_train, whale_ids)\n"
   ]
  },
  {
   "cell_type": "code",
   "execution_count": 10,
   "metadata": {},
   "outputs": [
    {
     "name": "stdout",
     "output_type": "stream",
     "text": [
      "(8500, 2, 224, 224, 3)\n"
     ]
    }
   ],
   "source": [
    "print(train_pairs.shape)"
   ]
  },
  {
   "cell_type": "code",
   "execution_count": 11,
   "metadata": {},
   "outputs": [
    {
     "name": "stdout",
     "output_type": "stream",
     "text": [
      "Epoch 1/10\n",
      "8500/8500 [==============================] - 441s 52ms/step - loss: 11.2392 - accuracy: 0.5041\n",
      "Epoch 2/10\n",
      "8500/8500 [==============================] - 439s 52ms/step - loss: 0.6154 - accuracy: 0.5726\n",
      "Epoch 3/10\n",
      "8500/8500 [==============================] - 437s 51ms/step - loss: 0.4629 - accuracy: 0.6389\n",
      "Epoch 4/10\n",
      "8500/8500 [==============================] - 438s 52ms/step - loss: 0.4471 - accuracy: 0.6476\n",
      "Epoch 5/10\n",
      "8500/8500 [==============================] - 450s 53ms/step - loss: 0.3312 - accuracy: 0.6447\n",
      "Epoch 6/10\n",
      "8500/8500 [==============================] - 457s 54ms/step - loss: 0.3093 - accuracy: 0.6566\n",
      "Epoch 7/10\n",
      "8500/8500 [==============================] - 444s 52ms/step - loss: 0.3062 - accuracy: 0.6555\n",
      "Epoch 8/10\n",
      "8500/8500 [==============================] - 440s 52ms/step - loss: 0.2839 - accuracy: 0.6784\n",
      "Epoch 9/10\n",
      "8500/8500 [==============================] - 449s 53ms/step - loss: 0.2427 - accuracy: 0.7278\n",
      "Epoch 10/10\n",
      "8500/8500 [==============================] - 487s 57ms/step - loss: 0.2429 - accuracy: 0.7236\n",
      "* Accuracy on training set: 71.46%\n"
     ]
    }
   ],
   "source": [
    "# Parameters\n",
    "nb_epochs = 10\n",
    "\n",
    "# Create branch network\n",
    "base_network = create_base_network(input_shape)\n",
    "\n",
    "# Input: a pair of images of identical dimension\n",
    "input_a = Input(shape=input_shape)\n",
    "input_b = Input(shape=input_shape)\n",
    "\n",
    "# The feature vectors of each image\n",
    "processed_a = base_network(input_a)\n",
    "processed_b = base_network(input_b)\n",
    "\n",
    "# Euclidean distance between two images\n",
    "distance = Lambda(euclidean_distance,output_shape=eucl_dist_output_shape)([processed_a, processed_b])\n",
    "\n",
    "# Siamese Neural Network\n",
    "model = Model([input_a, input_b], distance)\n",
    "\n",
    "# train\n",
    "rms = RMSprop()\n",
    "model.compile(loss=contrastive_loss, optimizer=rms, metrics=[accuracy])\n",
    "model.fit([train_pairs[:, 0,:,:,:], train_pairs[:, 1,:,:,:]], train_y,batch_size=128,epochs=nb_epochs)\n",
    "\n",
    "# compute final accuracy on training and test sets\n",
    "y_pred = model.predict([train_pairs[:, 0], train_pairs[:, 1]])\n",
    "tr_acc = compute_accuracy(train_y, y_pred)\n",
    "\n",
    "print('* Accuracy on training set: %0.2f%%' % (100 * tr_acc))\n"
   ]
  },
  {
   "cell_type": "markdown",
   "metadata": {},
   "source": [
    "To get the label for the new image x, we can compare x with all training images and output the labels of the images x\n",
    "is the most similar."
   ]
  },
  {
   "cell_type": "code",
   "execution_count": null,
   "metadata": {},
   "outputs": [],
   "source": [
    "\"\"\"\n",
    "y_predict_5 = []\n",
    "for images in image_file_test:\n",
    "    im = Image.open((join(test_image_path,images))).convert('RGB')\n",
    "    im = im.resize((image_size, image_size))\n",
    "    im = np.array(im).astype('float32')\n",
    "    final_im = preprocess_input(im)\n",
    "    final_im = final_im.reshape([1,224,224,3])\n",
    "    top_5_label = []\n",
    "    top_5_score = []\n",
    "    for i in range(X_train.shape):\n",
    "        train_im = X_train[i].reshape([1,224,224,3])\n",
    "        score = model.predict([train_im,final_im])\n",
    "        if len(top_5_score)<5:\n",
    "            top_5_score.append(score)\n",
    "            top_5_label.append(num_to_label[Y_train[i]])\n",
    "        elif min(top_5_score) < score:\n",
    "            min_ind = np.argmin(top_5_score)\n",
    "            top_5_score[min_ind] = score\n",
    "            top_5_label[min_ind] = num_to_label[Y_train[i]]\n",
    "    new_whale_thres = 0.5\n",
    "    if min(top_5_score) > new_whale_thres:\n",
    "            min_ind = np.argmin(top_5_score)\n",
    "            top_5_score[min_ind] = score\n",
    "            top_5_label[min_ind] = 'new_whale'\n",
    "    y_predict_5.append(top_5_label)\n",
    "\"\"\""
   ]
  },
  {
   "cell_type": "markdown",
   "metadata": {},
   "source": [
    "However this step takes too long ( O(MN) where M and N are sizes of training images and test images). Luckily the distance we use in this Siamese NN is euclidean distance. We can use python implementation of k-nearest neighbor with optimization algorithm like Ball-tree (using ball tree data structure). First we have to transform training images and test images onto embedding spaces. We can simply use base_network.predict to get the feature map of the images."
   ]
  },
  {
   "cell_type": "code",
   "execution_count": 14,
   "metadata": {},
   "outputs": [],
   "source": [
    "test_image_path = './test/test'\n",
    "image_file_test = os.listdir(test_image_path)\n",
    "X_test = []\n",
    "image_file_test = os.listdir(test_image_path)\n",
    "for images in image_file_test:\n",
    "    im = Image.open((join(test_image_path,images))).convert('RGB')\n",
    "    im = im.resize((image_size, image_size))\n",
    "    im = np.array(im).astype('float32')\n",
    "    final_im = preprocess_input(im)\n",
    "    X_test.append(np.array(final_im))\n",
    "X_test = np.array(X_test)"
   ]
  },
  {
   "cell_type": "code",
   "execution_count": 15,
   "metadata": {},
   "outputs": [],
   "source": [
    "X_features =  base_network.predict(X_train) # getting feature maps"
   ]
  },
  {
   "cell_type": "code",
   "execution_count": 16,
   "metadata": {},
   "outputs": [
    {
     "name": "stdout",
     "output_type": "stream",
     "text": [
      "(18080, 512)\n"
     ]
    }
   ],
   "source": [
    "print(X_features.shape)"
   ]
  },
  {
   "cell_type": "code",
   "execution_count": 17,
   "metadata": {},
   "outputs": [],
   "source": [
    "from sklearn.neighbors import KNeighborsClassifier\n",
    "X_test_features = base_network.predict(X_test)\n",
    "neigh = KNeighborsClassifier(n_neighbors=5,algorithm='ball_tree',metric='euclidean')\n",
    "neigh.fit(X_features,Y_train)\n",
    "distances,indices=neigh.kneighbors(X_test_features)"
   ]
  },
  {
   "cell_type": "code",
   "execution_count": 18,
   "metadata": {},
   "outputs": [],
   "source": [
    "file = open('submission3.csv',\"w\")\n",
    "\n",
    "i = 0\n",
    "threshold = 0.1\n",
    "file.write('Image,Id')\n",
    "file.write('\\n')\n",
    "for images in image_file_test:\n",
    "    file.write(images+',')\n",
    "    ind_ = indices[i]\n",
    "    nw = False\n",
    "    p=0\n",
    "    j=0\n",
    "    while(p<5):\n",
    "        if (not nw) and distances[i][j] > threshold:\n",
    "            file.write('new_whale')\n",
    "            file.write(' ')\n",
    "            p+=1\n",
    "            nw = True\n",
    "        else:\n",
    "            file.write(num_to_label[Y_train[ind_[j]]])\n",
    "            file.write(' ')\n",
    "            p+=1\n",
    "            j+=1\n",
    "    file.write('\\n')\n",
    "    i+=1\n",
    "file.close()"
   ]
  },
  {
   "cell_type": "markdown",
   "metadata": {},
   "source": [
    "test score = 0.40297"
   ]
  }
 ],
 "metadata": {
  "kernelspec": {
   "display_name": "Python 3",
   "language": "python",
   "name": "python3"
  },
  "language_info": {
   "codemirror_mode": {
    "name": "ipython",
    "version": 3
   },
   "file_extension": ".py",
   "mimetype": "text/x-python",
   "name": "python",
   "nbconvert_exporter": "python",
   "pygments_lexer": "ipython3",
   "version": "3.6.5"
  }
 },
 "nbformat": 4,
 "nbformat_minor": 2
}
